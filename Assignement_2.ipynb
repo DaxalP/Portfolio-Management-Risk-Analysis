{
 "cells": [
  {
   "cell_type": "code",
   "execution_count": 2,
   "id": "4668db85",
   "metadata": {},
   "outputs": [
    {
     "name": "stdout",
     "output_type": "stream",
     "text": [
      "Funds which follows Normal distribution are:\n",
      "- CTA Global\n",
      "\n",
      "\n",
      "\n",
      "Convertible Arbitrage  : Skewness = -2.64 & Kurtosis = 23.28\n",
      "CTA Global  : Skewness = 0.17 & Kurtosis = 2.95\n",
      "Distressed Securities  : Skewness = -1.3 & Kurtosis = 7.89\n",
      "Emerging Markets  : Skewness = -1.17 & Kurtosis = 9.25\n",
      "Equity Market Neutral  : Skewness = -2.12 & Kurtosis = 17.22\n",
      "Event Driven  : Skewness = -1.41 & Kurtosis = 8.04\n",
      "Fixed Income Arbitrage  : Skewness = -3.94 & Kurtosis = 29.84\n",
      "Global Macro  : Skewness = 0.98 & Kurtosis = 5.74\n",
      "Long/Short Equity  : Skewness = -0.39 & Kurtosis = 4.52\n",
      "Merger Arbitrage  : Skewness = -1.32 & Kurtosis = 8.74\n",
      "Relative Value  : Skewness = -1.82 & Kurtosis = 12.12\n",
      "Short Selling  : Skewness = 0.77 & Kurtosis = 6.12\n",
      "Funds Of Funds  : Skewness = -0.36 & Kurtosis = 7.07\n",
      "\n",
      "\n",
      "\n",
      "\"Global Macro\" has the maximum skewness =  0.98\n",
      "\n",
      "\n",
      "Positive skewness is good.\n",
      "Positive skewness means a larger right tail in distribution. Which indicates high potential of positive returns.\n"
     ]
    }
   ],
   "source": [
    "import numpy as np\n",
    "import pandas as pd\n",
    "from scipy.stats import jarque_bera\n",
    "fund = pd.read_csv('edhec-hedgefundindices.csv')\n",
    "\n",
    "## Que.1): Function which take input a series and degree and return moment as output.\n",
    "def moment(series, degree):\n",
    "    mean = np.mean(series)\n",
    "    moment = np.mean((series - mean)**(degree))\n",
    "    return moment\n",
    "\n",
    "\n",
    "## Que.2): function which applies the Jarque-Bera test on a series of returns and outputs true (if normal) or false.\n",
    "def jb_test(data):\n",
    "    result = jarque_bera(data)\n",
    "    return result[1]>0.05 # function 'jarque_bera' returns a tupple : (statistic value , pvalue).\n",
    "    # this function will return True if pvalue>0.05 else return false.\n",
    "\n",
    "\n",
    "## Que.3): Shows which real-life stock returns follow a normal distribution.\n",
    "print('Funds which follows Normal distribution are:')\n",
    "for funds in fund.columns[1:]:\n",
    "    if(jb_test(fund[funds])):\n",
    "        print('-',funds)\n",
    "print('\\n\\n')\n",
    "\n",
    "\n",
    "## Que.4). Find the skewness and kurtosis of every stock in hedge fund and also find which stock has highest skewness.\n",
    "\n",
    "max_skewness=0.0\n",
    "index = ''\n",
    "\n",
    "for a in fund.columns[1:]:\n",
    "    skew = round((moment(fund[a],3))/(moment(fund[a],2)**1.5),2)\n",
    "    kurtosis = round(moment(fund[a],4)/(moment(fund[a],2)**2),2)\n",
    "    \n",
    "    if(skew>max_skewness):\n",
    "        index = a\n",
    "        max_skewness = skew\n",
    "    \n",
    "    print(f'{a}  : Skewness = {skew} & Kurtosis = {kurtosis}')\n",
    "\n",
    "print('\\n\\n')\n",
    "print(f'\"{index}\" has the maximum skewness = ',max_skewness)\n",
    "\n",
    "print('\\n\\nPositive skewness is good.')\n",
    "print('Positive skewness means a larger right tail in distribution. Which indicates high potential of positive returns.')"
   ]
  },
  {
   "cell_type": "code",
   "execution_count": null,
   "id": "7c28a220",
   "metadata": {},
   "outputs": [],
   "source": []
  }
 ],
 "metadata": {
  "kernelspec": {
   "display_name": "Python 3 (ipykernel)",
   "language": "python",
   "name": "python3"
  },
  "language_info": {
   "codemirror_mode": {
    "name": "ipython",
    "version": 3
   },
   "file_extension": ".py",
   "mimetype": "text/x-python",
   "name": "python",
   "nbconvert_exporter": "python",
   "pygments_lexer": "ipython3",
   "version": "3.10.9"
  }
 },
 "nbformat": 4,
 "nbformat_minor": 5
}
